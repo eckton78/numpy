{
  "nbformat": 4,
  "nbformat_minor": 0,
  "metadata": {
    "kernelspec": {
      "display_name": "Python 3",
      "language": "python",
      "name": "python3"
    },
    "language_info": {
      "codemirror_mode": {
        "name": "ipython",
        "version": 3
      },
      "file_extension": ".py",
      "mimetype": "text/x-python",
      "name": "python",
      "nbconvert_exporter": "python",
      "pygments_lexer": "ipython3",
      "version": "3.7.4"
    },
    "colab": {
      "name": "ECKnumpy.ipynb",
      "provenance": [],
      "collapsed_sections": [
        "rrJQNyBGMzGh",
        "7_f_EbI-MzGm",
        "nmHD4zY4MzGp",
        "-fZ1JLMrMzGr"
      ],
      "include_colab_link": true
    }
  },
  "cells": [
    {
      "cell_type": "markdown",
      "metadata": {
        "id": "view-in-github",
        "colab_type": "text"
      },
      "source": [
        "<a href=\"https://colab.research.google.com/github/eckton78/numpy/blob/master/ECKnumpy.ipynb\" target=\"_parent\"><img src=\"https://colab.research.google.com/assets/colab-badge.svg\" alt=\"Open In Colab\"/></a>"
      ]
    },
    {
      "cell_type": "markdown",
      "metadata": {
        "id": "FtegnlsqMzGH",
        "colab_type": "text"
      },
      "source": [
        "# NumPy - Manipulando Dados Numéricos"
      ]
    },
    {
      "cell_type": "markdown",
      "metadata": {
        "id": "0BHRBV1nMzGI",
        "colab_type": "text"
      },
      "source": [
        "## O que é o NumPy?\n",
        "\n",
        "O *NumPy* é uma biblioteca para a Linguagem de Programação Python, que da suporte à linguagem para trabalhar com grandes matrizes e vetores multidimensionais, juntamente com uma ampla coleção de funções matemáticas de alto nível.\n",
        "\n",
        "Especificamente, essa bibioteca fornece ao Python, objetos *arrays* multidimensionais e vários objetos derivados (p. ex.: masked arrays e matrices), com um conjunto de funções para operações rápidas em vetores e a Computação Numérica, por exemplo: \n",
        "\n",
        "* Funções Matemáticas e Lógicas;\n",
        "* Manipulação de Formas;\n",
        "* Ordenação;\n",
        "* Seleção;\n",
        "* Leitura de Dados (E/S);\n",
        "* Transformada Discreta de Fourier;\n",
        "* Álgebra Linear Básica;\n",
        "* Operações Estatísticas Básicas;\n",
        "* Simulação Aleatória.\n",
        "\n",
        "No núcleo da biblioteca NumPy temos o objeto *narray* que encapsula vetores n-dimensionais com tipos de dados homgêneos e muitas operações executadas no código compilado a fim de desempenho. \n",
        "\n",
        "### NumPy X Sequências Padrão do Python\n",
        "\n",
        "Existem várias diferenças importantes entre os vetores do NumPy e as sequências padrão do Python, são elas: \n",
        "\n",
        "* **Vetores Estáticos:** os vetores do NumPy têm tamanho fixo em sua criação, diferente das listas do Python que podem crescer dinamicamente em tempo de execução. Logo, quando alteramos o tamanho de um objeto *narray*, será criado um novo vetor e excluído o original;\n",
        "\n",
        "* **Tipo de Dados Homogêneo dos Itens:**  todos os elementos dos vetores em NumPy, devem ser obrigatoriamente do mesmo tipo de dados, logo, eles irão ter o mesmo tamanho em memória;\n",
        "\n",
        "* **Operações Matemáticas Avançadas:** os vetores do NumPy otimizam operações matemáticas avançadas e qualquer tipo de outras operações para um grande número de dados. Na prática, essas operações são executadas mais eficientemente e com menos código do que se usarmos as sequências padrão do Python;"
      ]
    },
    {
      "cell_type": "code",
      "metadata": {
        "id": "NPywymJbMzGJ",
        "colab_type": "code",
        "colab": {}
      },
      "source": [
        "# NumPy na Prática\n",
        "import numpy as np             # Importa a biblioteca NumPy para seu projeto\n",
        "\n",
        "vetor = np.array([0, 1, 2, 3]) # instancia um vetor (array) em NumPy\n",
        "vetor                          # Imprime seu conteúdo"
      ],
      "execution_count": 0,
      "outputs": []
    },
    {
      "cell_type": "markdown",
      "metadata": {
        "id": "kqiPPyJgMzGN",
        "colab_type": "text"
      },
      "source": [
        "## Tipos de Dados"
      ]
    },
    {
      "cell_type": "markdown",
      "metadata": {
        "id": "VvR3kub0MzGO",
        "colab_type": "text"
      },
      "source": [
        "| Tipo de Dado | Descrição                                            |\n",
        "|:-------------|:-----------------------------------------------------|\n",
        "| np.int64     | Números inteiros de 64bits                           |\n",
        "| np.float32   | Números de ponto flutuante de precisão dupla (Reais) |\n",
        "| np.complex   | Números Complexos                                    |\n",
        "| np.bool      | Tipo lógico (Booleano)                               |\n",
        "| np.object    | Tipo object do Python                                |\n",
        "| np.string_   | Cadeia de Caracteres Fixa (String)                   |\n",
        "| np.unicode_  | Cadeia de Caracteres Unicode Fixa (String)           |"
      ]
    },
    {
      "cell_type": "markdown",
      "metadata": {
        "id": "0dra7ZjTMzGP",
        "colab_type": "text"
      },
      "source": [
        "## Criação de Vetores"
      ]
    },
    {
      "cell_type": "markdown",
      "metadata": {
        "id": "qXEj-X_PMzGP",
        "colab_type": "text"
      },
      "source": [
        "### Construção Manual de Vetores"
      ]
    },
    {
      "cell_type": "code",
      "metadata": {
        "id": "chCoiSHFMzGQ",
        "colab_type": "code",
        "colab": {}
      },
      "source": [
        "# CONSTRUÇÃO MANUAL DE VETORES\n",
        "# Unidimencional (1D)\n",
        "\n",
        "vetor_numpy = np.array([0, 1, 2, 3, 4])\n",
        "\n",
        "print(vetor_numpy)        # Imprime o vetor\n",
        "print(vetor_numpy.ndim)   # Retorna o número de dimensões do vetor\n",
        "print(vetor_numpy.shape)  # Retorna a forma do vetor ou atribui uma tupla para as dimnesões do vetor\n",
        "print(len(vetor_numpy))   # Retorna o número de elementos do vetor\n",
        "\n",
        "# Multi-dimencional (n-D)\n",
        "\n",
        "# Matriz Bidimensional 2 (linhas) X 3 (colunas)\n",
        "matriz_numpy = np.array([[0, 1, 2], [3, 4, 5]]) \n",
        "\n",
        "print(matriz_numpy)\n",
        "print(matriz_numpy.ndim)\n",
        "print(matriz_numpy.shape)\n",
        "print(len(matriz_numpy))         # Retorna o tamanho da primeira dimensão do vetor (linhas)"
      ],
      "execution_count": 0,
      "outputs": []
    },
    {
      "cell_type": "markdown",
      "metadata": {
        "id": "_67TINuEMzGT",
        "colab_type": "text"
      },
      "source": [
        "### Funções para Criação de Vetores"
      ]
    },
    {
      "cell_type": "code",
      "metadata": {
        "id": "5c9EdnEVMzGU",
        "colab_type": "code",
        "colab": {}
      },
      "source": [
        "# Vetores Igualmente Espaçado\n",
        "print(\"Vetores Igualmente Espaçado\")\n",
        "vetor = np.arange(10) # 0 .. n - 1\n",
        "print(vetor)\n",
        "\n",
        "vetor_impar = np.arange(1, 9, 2) # Início, Fim e Incremento\n",
        "print(vetor_impar)\n",
        "\n",
        "# Vetores por números de pontos\n",
        "print(\"\\nVetores por Números de Pontos\")\n",
        "numero_pontos = np.linspace(0, 1, 6) # Início, Fim, Número de Pontos\n",
        "print(numero_pontos)\n",
        "\n",
        "# Matrizes Populares\n",
        "print(\"\\nMATRIZES POPULARES\")\n",
        "print(\"\\nMatriz de Uns\")\n",
        "matriz_de_uns = np.ones((3, 3)) # Tupla (3, 3)\n",
        "print(matriz_de_uns)\n",
        "\n",
        "print(\"\\nMatriz de Zeros\")\n",
        "matriz_de_zeros = np.zeros((2, 2))\n",
        "print(matriz_de_zeros)\n",
        "\n",
        "print(\"\\nMatriz Zerada com Diagonal de Uns\")\n",
        "matriz_zeros_diagonal_uns = np.eye(4)\n",
        "print(matriz_zeros_diagonal_uns)\n",
        "\n",
        "print(\"\\nMatriz Zerada com Diagonal de Permutações\")\n",
        "matriz_diagonal_permutacao = np.diag(np.array([1, 2, 3, 4]))\n",
        "print(matriz_diagonal_permutacao)\n",
        "\n",
        "print(\"\\nVETORES ALEATÓRIOS\")\n",
        "print(\"\\nVetor Aleatório Uniforme\")\n",
        "vetor_uniforme_aleatorio = np.random.rand(4)\n",
        "print(vetor_uniforme_aleatorio)\n",
        "\n",
        "print(\"\\nVetor Aleatório Gaussiano\")\n",
        "vetor_aleatorio_gaussiano = np.random.randn(4)\n",
        "print(vetor_aleatorio_gaussiano)\n",
        "\n",
        "np.random.seed(1234) # Definindo a semente aleatória"
      ],
      "execution_count": 0,
      "outputs": []
    },
    {
      "cell_type": "markdown",
      "metadata": {
        "id": "36l-9Zx-MzGX",
        "colab_type": "text"
      },
      "source": [
        "### Operações Matemáticas com Vetores"
      ]
    },
    {
      "cell_type": "code",
      "metadata": {
        "id": "GuQJTe-UMzGX",
        "colab_type": "code",
        "colab": {}
      },
      "source": [
        "import numpy as np\n",
        "\n",
        "vetor_a = np.array([1, 2, 3])\n",
        "vetor_b = np.array([4, 5, 6])\n",
        "\n",
        "\n",
        "# Adição\n",
        "vetor_a + vetor_b              # Usando operador aritmético\n",
        "np.add(vetor_a, vetor_b)       # Usando função definida do NumPy\n",
        "\n",
        "# Subtração\n",
        "vetor_a - vetor_b              # Usando operador aritmético\n",
        "np.subtract(vetor_a, vetor_b)  # Usando função definida do NumPy\n",
        "\n",
        "# Multiplicação\n",
        "vetor_a * vetor_b              # Usando operador aritmético\n",
        "np.multiply(vetor_a, vetor_b)  # Usando função definida do NumPy\n",
        "\n",
        "# Divisão\n",
        "vetor_a / vetor_b              # Usando operador aritmético\n",
        "np.divide(vetor_a, vetor_b)    # Usando função definida do NumPy\n",
        "\n",
        "# Raiz Quadrada\n",
        "np.sqrt(vetor_a)\n",
        "\n",
        "# Função Exponencia\n",
        "np.exp(vetor_a)                \n",
        "\n",
        "# Seno\n",
        "np.sin(vetor_a)\n",
        "\n",
        "# Coseno\n",
        "np.cos(vetor_a)\n",
        "\n",
        "# Logaritmo Natural\n",
        "np.log(vetor_a)"
      ],
      "execution_count": 0,
      "outputs": []
    },
    {
      "cell_type": "markdown",
      "metadata": {
        "id": "AUn_exCTMzGa",
        "colab_type": "text"
      },
      "source": [
        "### Comparação"
      ]
    },
    {
      "cell_type": "code",
      "metadata": {
        "id": "5rk8TsfJMzGb",
        "colab_type": "code",
        "colab": {}
      },
      "source": [
        "import numpy as np\n",
        "\n",
        "vetor_a = np.array([1, 2, 3])\n",
        "vetor_b = np.array([4, 5, 6])\n",
        "\n",
        "# Compara cada um dos elementos dos vetores\n",
        "# Retorna um vetor booleano com os resultados da comparação\n",
        "vetor_a == vetor_b\n",
        "vetor_a != vetor_b\n",
        "\n",
        "vetor_a > vetor_b\n",
        "vetor_a >= vetor_b\n",
        "\n",
        "vetor_a < vetor_b\n",
        "vetor_a <= vetor_b"
      ],
      "execution_count": 0,
      "outputs": []
    },
    {
      "cell_type": "markdown",
      "metadata": {
        "id": "iJJFrWpeMzGe",
        "colab_type": "text"
      },
      "source": [
        "### Funções Agregadas"
      ]
    },
    {
      "cell_type": "code",
      "metadata": {
        "id": "c1ruhuRSMzGf",
        "colab_type": "code",
        "colab": {}
      },
      "source": [
        "import numpy as np\n",
        "\n",
        "vetor = np.array([1, 2, 3, 4, 5])\n",
        "\n",
        "vetor.sum()         # Soma todos os elementos do vetor\n",
        "vetor.cumsum()      # Soma acumulada de todos os elementos do vetor\n",
        "\n",
        "vetor.min()         # Retorna o menor elemento do vetor numérico\n",
        "vetor.max()         # Retorna o maior elemento do vetor numérico\n",
        "\n",
        "vetor.mean()        # Média\n",
        "np.median(vetor)    # Mediana\n",
        "np.corrcoef(vetor)  # Coeficiente de Correlação\n",
        "np.std(vetor)       # Desvio Padrão"
      ],
      "execution_count": 0,
      "outputs": []
    },
    {
      "cell_type": "markdown",
      "metadata": {
        "id": "rrJQNyBGMzGh",
        "colab_type": "text"
      },
      "source": [
        "### Copiando Vetores"
      ]
    },
    {
      "cell_type": "code",
      "metadata": {
        "id": "-ybxnFFNMzGi",
        "colab_type": "code",
        "colab": {}
      },
      "source": [
        "import numpy as np\n",
        "\n",
        "vetor = np.array([1, 2, 3, 4, 5])\n",
        "\n",
        "copia_vetor = np.copy(vetor)\n",
        "print(copia_vetor)\n",
        "\n",
        "copia = vetor.copy()  \n",
        "print(copia)\n",
        "\n",
        "visao = vetor.view()  # Cria uma visão (view) do vetor [representação virutal em memória]\n",
        "print(visao)"
      ],
      "execution_count": 0,
      "outputs": []
    },
    {
      "cell_type": "markdown",
      "metadata": {
        "id": "7_f_EbI-MzGm",
        "colab_type": "text"
      },
      "source": [
        "### Ordenando Vetores"
      ]
    },
    {
      "cell_type": "code",
      "metadata": {
        "id": "Rtv5mqiAMzGm",
        "colab_type": "code",
        "colab": {}
      },
      "source": [
        "import numpy as np\n",
        "\n",
        "vetor = np.array([9, 8, 7, 6, 5, 4, 3, 2, 1])\n",
        "vetor.sort()\n",
        "vetor"
      ],
      "execution_count": 0,
      "outputs": []
    },
    {
      "cell_type": "markdown",
      "metadata": {
        "id": "nmHD4zY4MzGp",
        "colab_type": "text"
      },
      "source": [
        "### Subconjunto, Fatiamento e Indexação"
      ]
    },
    {
      "cell_type": "code",
      "metadata": {
        "id": "ThI7m-AEMzGp",
        "colab_type": "code",
        "colab": {}
      },
      "source": [
        "import numpy as np\n",
        "\n",
        "vetor = np.array([1, 2, 3, 4, 5])\n",
        "matriz = np.array([(1, 2, 3), (4, 5, 6), (7, 8, 9)])\n",
        "\n",
        "\n",
        "print(vetor[2])        # vetor[i] = Pega o elemento do vetor na posição (i)\n",
        "print(matriz[1, 2])    # vetor[linha, coluna] = Pega um elemento em uma matriz\n",
        "\n",
        "\n",
        "print(vetor[0:3])      # vetor[inicio:quantidade] = Retorna 3 elementos contados à partir da posição de início ([0] \n",
        "print(matriz[1:2])     # Seleciona todos elementos da primeira linha até a terceira coluna\n",
        "print(matriz[0:3, 1])  # matriz[inicio:quantidade, coluna] Seleciona 3 elementos da segunda coluna [1], à partir da primeira linha [0]\n",
        "\n",
        "print(matriz[:1])      # Seleciona todos os itens da primeira linha\n",
        "print(matriz[:2])      # Seleciona todos os itens da primeira linha e segunda linha\n",
        "\n",
        "print(vetor[ : :-1])   # Seleciona todos os elementos de trás pra frente (invertido)\n",
        "\n",
        "# Indexação Lógica\n",
        "print(vetor[vetor <= 3]) # Seleciona todos os elementos dos índices menores iguais a 3\n",
        "print(vetor[1 + 3])      # Calcula dinamicamente a posição do vetor\n",
        "\n",
        "\n",
        "print(matriz[[1, 0, 1, 0]]) # Retorna uma matriz com as linhas 1 e 0 repetidas"
      ],
      "execution_count": 0,
      "outputs": []
    },
    {
      "cell_type": "markdown",
      "metadata": {
        "id": "-fZ1JLMrMzGr",
        "colab_type": "text"
      },
      "source": [
        "## Entrada/Saída (I/O)"
      ]
    },
    {
      "cell_type": "code",
      "metadata": {
        "id": "dHAaMiTqMzGs",
        "colab_type": "code",
        "colab": {}
      },
      "source": [
        "import numpy as np\n",
        "from io import StringIO\n",
        "\n",
        "data = u\"1, 2, 3\\n4, 5, 6\"\n",
        "vetor = np.genfromtxt(StringIO(data), delimiter=\",\") # Converte dados para vetor\n",
        "np.savetxt(\"nome_arquivo.txt\", vetor, delimiter=\" \") # Salva o vetor como arquivo"
      ],
      "execution_count": 0,
      "outputs": []
    },
    {
      "cell_type": "markdown",
      "metadata": {
        "id": "ACLYQmR_MzGu",
        "colab_type": "text"
      },
      "source": [
        "```python\n",
        "# Exemplo - Carregamento de Arquivos\n",
        "np.genfromtxt(\"nome_arquivo.csv\", delimiter=',')\n",
        "np.loadtxt(\"nome_arquivo.txt\")\n",
        "```"
      ]
    },
    {
      "cell_type": "markdown",
      "metadata": {
        "id": "t8wnZfPAMzGv",
        "colab_type": "text"
      },
      "source": [
        "# Exercícios"
      ]
    },
    {
      "cell_type": "markdown",
      "metadata": {
        "id": "MW5LQuB4MzGv",
        "colab_type": "text"
      },
      "source": [
        "1. Importe o pacote numpy com o nome np."
      ]
    },
    {
      "cell_type": "code",
      "metadata": {
        "id": "8PNBHa8aMzGw",
        "colab_type": "code",
        "colab": {}
      },
      "source": [
        "import numpy as np"
      ],
      "execution_count": 0,
      "outputs": []
    },
    {
      "cell_type": "markdown",
      "metadata": {
        "id": "TKdWANhUMzGy",
        "colab_type": "text"
      },
      "source": [
        "2. Crie o seguinte vetor unidimensional (1D):\n",
        "\n",
        "| 0 | 1 | 2 | 3 | 4 | 5 | 6 | 7 | 8 | 9 |\n",
        "|:-:|:-:|:-:|:-:|:-:|:-:|:-:|:-:|:-:|:-:|"
      ]
    },
    {
      "cell_type": "code",
      "metadata": {
        "id": "9hk4jF1uMzGz",
        "colab_type": "code",
        "colab": {}
      },
      "source": [
        "vetor = np.arange(10)"
      ],
      "execution_count": 0,
      "outputs": []
    },
    {
      "cell_type": "markdown",
      "metadata": {
        "id": "cRHI_oChMzG2",
        "colab_type": "text"
      },
      "source": [
        "3. Qual é o comprimento `len` do vetor?"
      ]
    },
    {
      "cell_type": "code",
      "metadata": {
        "id": "H3c8eK4eMzG2",
        "colab_type": "code",
        "colab": {
          "base_uri": "https://localhost:8080/",
          "height": 34
        },
        "outputId": "53b29bf8-ef6e-42de-ecfd-b23a81b5de8a"
      },
      "source": [
        "len(vetor)"
      ],
      "execution_count": 76,
      "outputs": [
        {
          "output_type": "execute_result",
          "data": {
            "text/plain": [
              "10"
            ]
          },
          "metadata": {
            "tags": []
          },
          "execution_count": 76
        }
      ]
    },
    {
      "cell_type": "markdown",
      "metadata": {
        "id": "Fm_tchbUMzG6",
        "colab_type": "text"
      },
      "source": [
        "4. Quantas dimensões `ndim` o vetor possui?"
      ]
    },
    {
      "cell_type": "code",
      "metadata": {
        "id": "__2Zi4UYMzG7",
        "colab_type": "code",
        "colab": {
          "base_uri": "https://localhost:8080/",
          "height": 34
        },
        "outputId": "fa2240d0-c6ad-45b8-c88e-9bd6f8388014"
      },
      "source": [
        "np.ndim(vetor)"
      ],
      "execution_count": 80,
      "outputs": [
        {
          "output_type": "execute_result",
          "data": {
            "text/plain": [
              "1"
            ]
          },
          "metadata": {
            "tags": []
          },
          "execution_count": 80
        }
      ]
    },
    {
      "cell_type": "markdown",
      "metadata": {
        "id": "_-8JIdSFMzG9",
        "colab_type": "text"
      },
      "source": [
        "5. O que a função `shape` retorna?"
      ]
    },
    {
      "cell_type": "code",
      "metadata": {
        "id": "eoS8ayHxMzG-",
        "colab_type": "code",
        "colab": {
          "base_uri": "https://localhost:8080/",
          "height": 34
        },
        "outputId": "e8496687-cc06-4a81-9087-61ea4e4ce307"
      },
      "source": [
        "np.shape(vetor)\n",
        "# total de linhas e colunas"
      ],
      "execution_count": 81,
      "outputs": [
        {
          "output_type": "execute_result",
          "data": {
            "text/plain": [
              "(10,)"
            ]
          },
          "metadata": {
            "tags": []
          },
          "execution_count": 81
        }
      ]
    },
    {
      "cell_type": "markdown",
      "metadata": {
        "id": "zIXThMa2MzHA",
        "colab_type": "text"
      },
      "source": [
        "**Resposta**:"
      ]
    },
    {
      "cell_type": "markdown",
      "metadata": {
        "id": "3IOTJRg9MzHB",
        "colab_type": "text"
      },
      "source": [
        "6. Crie a variável *pares* e extraia todos os números pares do vetor para ela:"
      ]
    },
    {
      "cell_type": "code",
      "metadata": {
        "id": "0Ie1QryCMzHB",
        "colab_type": "code",
        "colab": {
          "base_uri": "https://localhost:8080/",
          "height": 34
        },
        "outputId": "4c695d2a-52b8-4260-ff73-92b0563aaeae"
      },
      "source": [
        "par = vetor[vetor % 2 == 0 ]\n",
        "print(par)"
      ],
      "execution_count": 84,
      "outputs": [
        {
          "output_type": "stream",
          "text": [
            "[0 2 4 6 8]\n"
          ],
          "name": "stdout"
        }
      ]
    },
    {
      "cell_type": "markdown",
      "metadata": {
        "id": "iQkLrxsLMzHG",
        "colab_type": "text"
      },
      "source": [
        "7. Substitua todos os elementos ímpares do vetor por -1, em seguida, ordene os resultados:"
      ]
    },
    {
      "cell_type": "code",
      "metadata": {
        "id": "WpZQHgfdMzHG",
        "colab_type": "code",
        "colab": {
          "base_uri": "https://localhost:8080/",
          "height": 34
        },
        "outputId": "4694584e-901e-4e92-f1a6-20b0bff819fc"
      },
      "source": [
        "imp = np.copy(vetor)\n",
        "imp [ imp % 2 == 1 ] = -1\n",
        "print (imp)"
      ],
      "execution_count": 89,
      "outputs": [
        {
          "output_type": "stream",
          "text": [
            "[ 0 -1  2 -1  4 -1  6 -1  8 -1]\n"
          ],
          "name": "stdout"
        }
      ]
    },
    {
      "cell_type": "markdown",
      "metadata": {
        "id": "XHKm62-GMzHI",
        "colab_type": "text"
      },
      "source": [
        "8. Converta o vetor unidimensional (1D) abaixo para uma matriz (2D) com 4 linhas. **Dica:** `reshape`."
      ]
    },
    {
      "cell_type": "code",
      "metadata": {
        "id": "zzxYO7VgMzHJ",
        "colab_type": "code",
        "colab": {
          "base_uri": "https://localhost:8080/",
          "height": 85
        },
        "outputId": "9ef242d8-6dd8-4ecd-e4bb-5a569a15a2cc"
      },
      "source": [
        "vetor = np.arange(12)\n",
        "vetor.reshape(4, -1)"
      ],
      "execution_count": 100,
      "outputs": [
        {
          "output_type": "execute_result",
          "data": {
            "text/plain": [
              "array([[ 0,  1,  2],\n",
              "       [ 3,  4,  5],\n",
              "       [ 6,  7,  8],\n",
              "       [ 9, 10, 11]])"
            ]
          },
          "metadata": {
            "tags": []
          },
          "execution_count": 100
        }
      ]
    },
    {
      "cell_type": "markdown",
      "metadata": {
        "id": "wXyB7wPCMzHL",
        "colab_type": "text"
      },
      "source": [
        "9. Obtenha os itens em comum, ou seja, a intersecção dos vetores `a` e `b` abaixo:\n",
        "**Saída**: [2, 4, 6]"
      ]
    },
    {
      "cell_type": "code",
      "metadata": {
        "id": "fMNT4yFRMzHL",
        "colab_type": "code",
        "colab": {
          "base_uri": "https://localhost:8080/",
          "height": 34
        },
        "outputId": "215e2f47-b731-418a-af77-036695aa9e70"
      },
      "source": [
        "veta = np.array([2, 4, 6, 8, 10, 12])\n",
        "vetb = np.array([6, 4, 2, 0, -2 ,-4])\n",
        "np.intersect1d(veta, vetb)"
      ],
      "execution_count": 102,
      "outputs": [
        {
          "output_type": "execute_result",
          "data": {
            "text/plain": [
              "array([2, 4, 6])"
            ]
          },
          "metadata": {
            "tags": []
          },
          "execution_count": 102
        }
      ]
    },
    {
      "cell_type": "markdown",
      "metadata": {
        "id": "AgxlVG28MzHO",
        "colab_type": "text"
      },
      "source": [
        "10. Retorne os valores únicos do vetor `a` que não estão no vetor `b` (diferença).\n",
        "**Saída**: [1, 3]"
      ]
    },
    {
      "cell_type": "code",
      "metadata": {
        "id": "dum-J5_EMzHP",
        "colab_type": "code",
        "colab": {
          "base_uri": "https://localhost:8080/",
          "height": 34
        },
        "outputId": "c3972d2e-fab2-48a1-c6b1-c43ab652d28d"
      },
      "source": [
        "veta = np.array([1, 2, 3, 4, 5, 6])\n",
        "vetb = np.array([4, 5, 6, 2, 9, 8])\n",
        "np.setdiff1d(veta,vetb)"
      ],
      "execution_count": 103,
      "outputs": [
        {
          "output_type": "execute_result",
          "data": {
            "text/plain": [
              "array([2, 4, 5, 6])"
            ]
          },
          "metadata": {
            "tags": []
          },
          "execution_count": 103
        }
      ]
    },
    {
      "cell_type": "markdown",
      "metadata": {
        "id": "DBCmsdwlMzHS",
        "colab_type": "text"
      },
      "source": [
        "11. Retorne um vetor com as posições (índices) onde os elementos do vetor `a` sãos iguais aos elementos do vetor `b`. **Dica**: `where`.\n",
        "**Saída**: [2, 3, 5]"
      ]
    },
    {
      "cell_type": "code",
      "metadata": {
        "id": "qOXAzOq7MzHS",
        "colab_type": "code",
        "colab": {
          "base_uri": "https://localhost:8080/",
          "height": 34
        },
        "outputId": "f7b9a37b-4f95-45de-ace3-f9f422382f89"
      },
      "source": [
        "veta = np.array([1, 2, 3,4,5,8])\n",
        "vetb = np.array([4, 5, 3,4,9,8])\n",
        "np.where(veta == vetb)"
      ],
      "execution_count": 106,
      "outputs": [
        {
          "output_type": "execute_result",
          "data": {
            "text/plain": [
              "(array([2, 3, 5]),)"
            ]
          },
          "metadata": {
            "tags": []
          },
          "execution_count": 106
        }
      ]
    },
    {
      "cell_type": "markdown",
      "metadata": {
        "id": "Czhd4kryMzHU",
        "colab_type": "text"
      },
      "source": [
        "12. Obtenha todos os itens entre 5 e 15 do vetor `a = [0, 1, 2, 3, . . ., 20]`."
      ]
    },
    {
      "cell_type": "code",
      "metadata": {
        "id": "C34T47E0MzHV",
        "colab_type": "code",
        "colab": {
          "base_uri": "https://localhost:8080/",
          "height": 34
        },
        "outputId": "e1d6fb81-bdff-4c4a-a7a0-680dfacfcfc6"
      },
      "source": [
        "vet = np.arange(21);\n",
        "index = np.where((vet >= 5) & (vet <= 15))\n",
        "vet[index]"
      ],
      "execution_count": 108,
      "outputs": [
        {
          "output_type": "execute_result",
          "data": {
            "text/plain": [
              "array([ 5,  6,  7,  8,  9, 10, 11, 12, 13, 14, 15])"
            ]
          },
          "metadata": {
            "tags": []
          },
          "execution_count": 108
        }
      ]
    },
    {
      "cell_type": "markdown",
      "metadata": {
        "id": "e5HhXK7IMzHX",
        "colab_type": "text"
      },
      "source": [
        "13. Crie e imprima um vetor com 5 números aleatórios, sem seguida, obtenha os valores máximo e mínimo dele e mostre na tela."
      ]
    },
    {
      "cell_type": "code",
      "metadata": {
        "id": "V7aDgKF9MzHX",
        "colab_type": "code",
        "colab": {
          "base_uri": "https://localhost:8080/",
          "height": 68
        },
        "outputId": "e404b18a-7b04-4d2c-c1e7-6b4ffb18244b"
      },
      "source": [
        "vetor = np.random.rand(5)\n",
        "print(vetor)\n",
        "print(vetor.max())\n",
        "print(vetor.min())"
      ],
      "execution_count": 109,
      "outputs": [
        {
          "output_type": "stream",
          "text": [
            "[0.83400479 0.47845877 0.85650145 0.20561925 0.42732432]\n",
            "0.8565014511491392\n",
            "0.20561924804791443\n"
          ],
          "name": "stdout"
        }
      ]
    },
    {
      "cell_type": "markdown",
      "metadata": {
        "id": "0TCPZfISMzHZ",
        "colab_type": "text"
      },
      "source": [
        "14. Crie a seguinte matriz:\n",
        "\n",
        "|   |   |   |\n",
        "|:-:|:-:|:-:|\n",
        "| 7 | 8 | 9 |\n",
        "| 4 | 5 | 6 |\n",
        "| 1 | 2 | 3 |"
      ]
    },
    {
      "cell_type": "code",
      "metadata": {
        "id": "HFSZkD0uMzHa",
        "colab_type": "code",
        "colab": {
          "base_uri": "https://localhost:8080/",
          "height": 68
        },
        "outputId": "639b68e9-22ec-47e3-8611-fe98f32dbe6e"
      },
      "source": [
        "matriz = np.array([(7, 8, 9), (4, 5, 6),(1, 2, 3)])\n",
        "matriz"
      ],
      "execution_count": 110,
      "outputs": [
        {
          "output_type": "execute_result",
          "data": {
            "text/plain": [
              "array([[7, 8, 9],\n",
              "       [4, 5, 6],\n",
              "       [1, 2, 3]])"
            ]
          },
          "metadata": {
            "tags": []
          },
          "execution_count": 110
        }
      ]
    },
    {
      "cell_type": "markdown",
      "metadata": {
        "id": "MJYXmGmiMzHd",
        "colab_type": "text"
      },
      "source": [
        "15. Troque de lugar a primeira coluna com a útllima coluna da matriz."
      ]
    },
    {
      "cell_type": "code",
      "metadata": {
        "id": "KDzpeVH2MzHd",
        "colab_type": "code",
        "colab": {}
      },
      "source": [
        ""
      ],
      "execution_count": 0,
      "outputs": []
    },
    {
      "cell_type": "markdown",
      "metadata": {
        "id": "ay5wp3iDMzHf",
        "colab_type": "text"
      },
      "source": [
        "16. Troque de lugar a primeira linha com a útllima linha da matriz."
      ]
    },
    {
      "cell_type": "code",
      "metadata": {
        "id": "0NSIXogwMzHf",
        "colab_type": "code",
        "colab": {
          "base_uri": "https://localhost:8080/",
          "height": 68
        },
        "outputId": "62161dec-558c-4b90-e7e1-5aa09f8b5db9"
      },
      "source": [
        "print(matriz[[2, 1, 0 ]])"
      ],
      "execution_count": 112,
      "outputs": [
        {
          "output_type": "stream",
          "text": [
            "[[1 2 3]\n",
            " [4 5 6]\n",
            " [7 8 9]]\n"
          ],
          "name": "stdout"
        }
      ]
    },
    {
      "cell_type": "markdown",
      "metadata": {
        "id": "MOwCg8jiMzHi",
        "colab_type": "text"
      },
      "source": [
        "17. Crie uma matriz  7 × 5 preenchida com números decimais aleatórios entre 1 e 5."
      ]
    },
    {
      "cell_type": "code",
      "metadata": {
        "id": "-0bCeqsHMzHi",
        "colab_type": "code",
        "colab": {
          "base_uri": "https://localhost:8080/",
          "height": 136
        },
        "outputId": "2a29ffa0-7897-497e-aa2b-d02afef0fa70"
      },
      "source": [
        "aleatorio = np.random.uniform(1,5, size=(7,5))\n",
        "print(aleatorio)"
      ],
      "execution_count": 115,
      "outputs": [
        {
          "output_type": "stream",
          "text": [
            "[[1.24733953 2.39536615 4.13216384 2.81171888 2.22044913]\n",
            " [2.1343823  4.46070282 2.24873604 4.30353573 3.56148051]\n",
            " [1.94588144 1.91296781 4.40093841 2.50437727 4.76747982]\n",
            " [4.8620519  2.09287013 3.59023926 1.54369286 1.77280269]\n",
            " [3.13404702 1.62949946 1.85092685 3.95041114 1.83262923]\n",
            " [3.93747463 4.29662336 2.14140092 2.04103247 1.6362477 ]\n",
            " [1.52772515 3.61499155 4.93533489 2.85799554 4.97724787]]\n"
          ],
          "name": "stdout"
        }
      ]
    },
    {
      "cell_type": "markdown",
      "metadata": {
        "id": "gLz7_pjiMzHl",
        "colab_type": "text"
      },
      "source": [
        "18. Qual é o comprimento `len` da matriz?"
      ]
    },
    {
      "cell_type": "code",
      "metadata": {
        "id": "WdEtephMMzHm",
        "colab_type": "code",
        "colab": {
          "base_uri": "https://localhost:8080/",
          "height": 34
        },
        "outputId": "420a7f18-a793-4993-b8c8-5287fd292e72"
      },
      "source": [
        "len(aleatorio)"
      ],
      "execution_count": 116,
      "outputs": [
        {
          "output_type": "execute_result",
          "data": {
            "text/plain": [
              "7"
            ]
          },
          "metadata": {
            "tags": []
          },
          "execution_count": 116
        }
      ]
    },
    {
      "cell_type": "markdown",
      "metadata": {
        "id": "J97qQO3SMzHp",
        "colab_type": "text"
      },
      "source": [
        "19. Quantas dimensões `ndim` a matriz possui?"
      ]
    },
    {
      "cell_type": "code",
      "metadata": {
        "id": "nBmCMtLwMzHq",
        "colab_type": "code",
        "colab": {}
      },
      "source": [
        "np.ndim(aleatorio)"
      ],
      "execution_count": 0,
      "outputs": []
    },
    {
      "cell_type": "markdown",
      "metadata": {
        "id": "uZVo9emnMzHt",
        "colab_type": "text"
      },
      "source": [
        "20. O que a função `shape` retorna?"
      ]
    },
    {
      "cell_type": "code",
      "metadata": {
        "id": "jQVVzJLSMzHu",
        "colab_type": "code",
        "colab": {}
      },
      "source": [
        "np.shape(aleatorio)\n",
        "# total de linhas e colunas"
      ],
      "execution_count": 0,
      "outputs": []
    },
    {
      "cell_type": "markdown",
      "metadata": {
        "id": "ZrPIjrgDMzHw",
        "colab_type": "text"
      },
      "source": [
        "**Resposta**:"
      ]
    },
    {
      "cell_type": "markdown",
      "metadata": {
        "id": "TUHQHlJnMzHw",
        "colab_type": "text"
      },
      "source": [
        "# EXERCÍCIO: Análise de Dados dos Jogadores da FIFA ⚽"
      ]
    },
    {
      "cell_type": "markdown",
      "metadata": {
        "id": "gCsopesJMzHx",
        "colab_type": "text"
      },
      "source": [
        "Neste exercício, iremos usar a biblioteca NumPy para fazer uma análise de dados de jogares de futebol da FIFA disponíveis em [`data/fifa.csv`](data/fifa.csv). O conjunto de dados (dataset) foi adaptado da versão original disponibilizada nas plataformas: [Kaggle](https://www.kaggle.com/karangadiya/fifa19/data) e [GitHub](https://github.com/amanthedorkknight/fifa18-all-player-statistics).\n",
        "\n",
        "## Dicionário de Dados\n",
        "\n",
        "| Coluna        | Descrição                                        |\n",
        "|:--------------|:-------------------------------------------------|\n",
        "| id            | Identificador único do jogador                   |\n",
        "| nome          | Nome do jogador                                  |\n",
        "| foto          | URL da fotografia do jogador.                    |\n",
        "| nacionalidade | País do jogador.                                 |\n",
        "| avaliacao     | Avaliação geral do jogador.                      |\n",
        "| potencial     | Indicador da classificação potencial do jogador. |\n",
        "| time          | Nome do time do jogador.                         |\n",
        "| pe_preferido  | Direito (Destro), Esquerdo (Canhoto).            |\n",
        "| reputacao     | Reputação Internacional do jogador.              |\n",
        "| altura_cm     | Altura do jogador em centímetros (cm).           |\n",
        "| peso_kg       | Peso do jogador em kilos (kg).                   |\n",
        "| posicao       | Posição do jogador no time.                      |\n",
        "| numero_camisa | Número da camisa do jogador.                     |"
      ]
    },
    {
      "cell_type": "markdown",
      "metadata": {
        "id": "fvIVpCieMzHx",
        "colab_type": "text"
      },
      "source": [
        "1. Importe o pacote numpy com o nome np."
      ]
    },
    {
      "cell_type": "code",
      "metadata": {
        "id": "MS1qH5axMzHx",
        "colab_type": "code",
        "colab": {}
      },
      "source": [
        "import numpy as np"
      ],
      "execution_count": 0,
      "outputs": []
    },
    {
      "cell_type": "markdown",
      "metadata": {
        "id": "RX-PkZ8nMzH0",
        "colab_type": "text"
      },
      "source": [
        "2. Carregue o conjunto de dados da Fifa disponível na pasta (`data/fifa.csv`), ignorando a coluna `foto`, para uma matriz em uma variavel chamada `dados`. **Dicas:**\n",
        "    - Pesquise pela função `genfromtxt`; \n",
        "    - Não esqueça de especificar a codificação (encoding) como UTF-8;\n",
        "    - Ignore o cabeçalho dos dados usando o parâmetro `skip_header=True`"
      ]
    },
    {
      "cell_type": "code",
      "metadata": {
        "id": "cUXFos2_MzH1",
        "colab_type": "code",
        "outputId": "848ee0a0-0464-4a5b-f4f8-6711b034d754",
        "colab": {
          "base_uri": "https://localhost:8080/",
          "height": 187
        }
      },
      "source": [
        "dados = np.genfromtxt('fifa.csv',\n",
        "                      delimiter=',',\n",
        "                      encoding='utf-8',\n",
        "                      dtype=object,\n",
        "                      skip_header=True,\n",
        "                      usecols=[0,1,2,4,5,6,7,8,9,10]\n",
        "                      )\n",
        "dados"
      ],
      "execution_count": 0,
      "outputs": [
        {
          "output_type": "execute_result",
          "data": {
            "text/plain": [
              "array([[b'158023', b'L. Messi', b'31', ..., b'Esquerdo', b'5', b'170'],\n",
              "       [b'20801', b'Cristiano Ronaldo', b'33', ..., b'Direito', b'5',\n",
              "        b'188'],\n",
              "       [b'190871', b'Neymar Jr', b'26', ..., b'Direito', b'5', b'175'],\n",
              "       ...,\n",
              "       [b'241638', b'B. Worman', b'16', ..., b'Direito', b'1', b'173'],\n",
              "       [b'246268', b'D. Walker-Rice', b'17', ..., b'Direito', b'1',\n",
              "        b'152'],\n",
              "       [b'246269', b'G. Nugent', b'16', ..., b'Direito', b'1', b'152']],\n",
              "      dtype=object)"
            ]
          },
          "metadata": {
            "tags": []
          },
          "execution_count": 14
        }
      ]
    },
    {
      "cell_type": "markdown",
      "metadata": {
        "id": "x907mbcVMzH4",
        "colab_type": "text"
      },
      "source": [
        "3. Quantas linhas foram lidas do arquivo?"
      ]
    },
    {
      "cell_type": "code",
      "metadata": {
        "id": "Els4ICFkMzH4",
        "colab_type": "code",
        "outputId": "f09969c3-203b-442d-8d77-8c618fe0efcd",
        "colab": {
          "base_uri": "https://localhost:8080/",
          "height": 34
        }
      },
      "source": [
        "len(dados)"
      ],
      "execution_count": 0,
      "outputs": [
        {
          "output_type": "execute_result",
          "data": {
            "text/plain": [
              "18207"
            ]
          },
          "metadata": {
            "tags": []
          },
          "execution_count": 15
        }
      ]
    },
    {
      "cell_type": "markdown",
      "metadata": {
        "id": "YsASBMZ8MzH9",
        "colab_type": "text"
      },
      "source": [
        "4. Quantas dimensões sua variável `dados` possui?"
      ]
    },
    {
      "cell_type": "code",
      "metadata": {
        "id": "_OkXhjI0MzH9",
        "colab_type": "code",
        "outputId": "60c5d5fe-9195-479a-e76a-98ac308223de",
        "colab": {
          "base_uri": "https://localhost:8080/",
          "height": 34
        }
      },
      "source": [
        "np.ndim(dados)"
      ],
      "execution_count": 0,
      "outputs": [
        {
          "output_type": "execute_result",
          "data": {
            "text/plain": [
              "2"
            ]
          },
          "metadata": {
            "tags": []
          },
          "execution_count": 16
        }
      ]
    },
    {
      "cell_type": "markdown",
      "metadata": {
        "id": "iJC0cb13MzIB",
        "colab_type": "text"
      },
      "source": [
        "5. O que a função shape retorna?"
      ]
    },
    {
      "cell_type": "code",
      "metadata": {
        "id": "VbIScpDjMzIB",
        "colab_type": "code",
        "outputId": "676d1569-4564-41e9-a539-c7860254e0e1",
        "colab": {
          "base_uri": "https://localhost:8080/",
          "height": 34
        }
      },
      "source": [
        "np.shape(dados)\n",
        "#numero de linhas e colunas"
      ],
      "execution_count": 0,
      "outputs": [
        {
          "output_type": "execute_result",
          "data": {
            "text/plain": [
              "(18207, 10)"
            ]
          },
          "metadata": {
            "tags": []
          },
          "execution_count": 18
        }
      ]
    },
    {
      "cell_type": "markdown",
      "metadata": {
        "id": "74VzYLxtMzIE",
        "colab_type": "text"
      },
      "source": [
        "**Resposta**:"
      ]
    },
    {
      "cell_type": "markdown",
      "metadata": {
        "id": "KHR_IU9WMzIE",
        "colab_type": "text"
      },
      "source": [
        "6. Mostre o dado que está na 3ª linha da 4ª coluna?"
      ]
    },
    {
      "cell_type": "code",
      "metadata": {
        "id": "_gImvH_9MzIF",
        "colab_type": "code",
        "outputId": "c36ad28c-3fd0-4f02-b747-2d656d581129",
        "colab": {
          "base_uri": "https://localhost:8080/",
          "height": 34
        }
      },
      "source": [
        "dados [2, 3]"
      ],
      "execution_count": 0,
      "outputs": [
        {
          "output_type": "execute_result",
          "data": {
            "text/plain": [
              "b'Brasil'"
            ]
          },
          "metadata": {
            "tags": []
          },
          "execution_count": 20
        }
      ]
    },
    {
      "cell_type": "markdown",
      "metadata": {
        "id": "hUEEMa4zMzII",
        "colab_type": "text"
      },
      "source": [
        "7. Exiba os dados da primeira linha do dataset."
      ]
    },
    {
      "cell_type": "code",
      "metadata": {
        "id": "T7bNVdNYMzII",
        "colab_type": "code",
        "outputId": "f32d89a1-7c6d-49e7-bc95-77257a3e6ee3",
        "colab": {
          "base_uri": "https://localhost:8080/",
          "height": 51
        }
      },
      "source": [
        "dados [0]"
      ],
      "execution_count": 0,
      "outputs": [
        {
          "output_type": "execute_result",
          "data": {
            "text/plain": [
              "array([b'158023', b'L. Messi', b'31', b'Argentina', b'94', b'94',\n",
              "       b'FC Barcelona', b'Esquerdo', b'5', b'170'], dtype=object)"
            ]
          },
          "metadata": {
            "tags": []
          },
          "execution_count": 21
        }
      ]
    },
    {
      "cell_type": "markdown",
      "metadata": {
        "id": "WsliLQ7HMzIM",
        "colab_type": "text"
      },
      "source": [
        "8. Mostre as 5 primeiras linhas do conjunto de dados."
      ]
    },
    {
      "cell_type": "code",
      "metadata": {
        "id": "6HR_70UfMzIM",
        "colab_type": "code",
        "outputId": "aff3157a-f7c4-4828-8edd-ee431cbdb449",
        "colab": {
          "base_uri": "https://localhost:8080/",
          "height": 187
        }
      },
      "source": [
        "dados [: 5]"
      ],
      "execution_count": 0,
      "outputs": [
        {
          "output_type": "execute_result",
          "data": {
            "text/plain": [
              "array([[b'158023', b'L. Messi', b'31', b'Argentina', b'94', b'94',\n",
              "        b'FC Barcelona', b'Esquerdo', b'5', b'170'],\n",
              "       [b'20801', b'Cristiano Ronaldo', b'33', b'Portugal', b'94', b'94',\n",
              "        b'Juventus', b'Direito', b'5', b'188'],\n",
              "       [b'190871', b'Neymar Jr', b'26', b'Brasil', b'92', b'93',\n",
              "        b'Paris Saint-Germain', b'Direito', b'5', b'175'],\n",
              "       [b'193080', b'De Gea', b'27', b'Espanha', b'91', b'93',\n",
              "        b'Manchester United', b'Direito', b'4', b'193'],\n",
              "       [b'192985', b'K. De Bruyne', b'27', b'B\\xe9lgica', b'91', b'92',\n",
              "        b'Manchester City', b'Direito', b'4', b'155']], dtype=object)"
            ]
          },
          "metadata": {
            "tags": []
          },
          "execution_count": 23
        }
      ]
    },
    {
      "cell_type": "markdown",
      "metadata": {
        "id": "oG60jA7zMzIP",
        "colab_type": "text"
      },
      "source": [
        "9. Selecione todas as linhas da coluna `nome` (segunda coluna). **Dica:** use o operador `:`"
      ]
    },
    {
      "cell_type": "code",
      "metadata": {
        "id": "8EKGwu6oMzIQ",
        "colab_type": "code",
        "outputId": "95a59b07-3e23-46f7-c25d-efef43f8d55d",
        "colab": {
          "base_uri": "https://localhost:8080/",
          "height": 51
        }
      },
      "source": [
        "dados [:, 1]"
      ],
      "execution_count": 0,
      "outputs": [
        {
          "output_type": "execute_result",
          "data": {
            "text/plain": [
              "array([b'L. Messi', b'Cristiano Ronaldo', b'Neymar Jr', ..., b'B. Worman',\n",
              "       b'D. Walker-Rice', b'G. Nugent'], dtype=object)"
            ]
          },
          "metadata": {
            "tags": []
          },
          "execution_count": 24
        }
      ]
    },
    {
      "cell_type": "markdown",
      "metadata": {
        "id": "tTyZWelOMzIR",
        "colab_type": "text"
      },
      "source": [
        "10. Inicialize um vetor de inteiros NumPy chamado: **idades**; com todas as linhas da coluna `idade` (3ª coluna)."
      ]
    },
    {
      "cell_type": "code",
      "metadata": {
        "id": "_3CEPISUMzIR",
        "colab_type": "code",
        "outputId": "8e46def6-ce29-4677-941e-ba962aac781c",
        "colab": {
          "base_uri": "https://localhost:8080/",
          "height": 34
        }
      },
      "source": [
        "idades = np.array(dados[:, 2],dtype=int)\n",
        "idades"
      ],
      "execution_count": 0,
      "outputs": [
        {
          "output_type": "execute_result",
          "data": {
            "text/plain": [
              "array([31, 33, 26, ..., 16, 17, 16])"
            ]
          },
          "metadata": {
            "tags": []
          },
          "execution_count": 26
        }
      ]
    },
    {
      "cell_type": "markdown",
      "metadata": {
        "id": "QSLb_T9pMzIT",
        "colab_type": "text"
      },
      "source": [
        "11. Qual é a média de idades dos jogadores?"
      ]
    },
    {
      "cell_type": "code",
      "metadata": {
        "id": "Zilw41OiMzIU",
        "colab_type": "code",
        "outputId": "ac6fab35-3903-4cdc-8e34-a9b0e5ce2526",
        "colab": {
          "base_uri": "https://localhost:8080/",
          "height": 34
        }
      },
      "source": [
        "idades.mean()"
      ],
      "execution_count": 0,
      "outputs": [
        {
          "output_type": "execute_result",
          "data": {
            "text/plain": [
              "25.122205745043114"
            ]
          },
          "metadata": {
            "tags": []
          },
          "execution_count": 27
        }
      ]
    },
    {
      "cell_type": "markdown",
      "metadata": {
        "id": "Rb3FVy6JMzIW",
        "colab_type": "text"
      },
      "source": [
        "12. Qual é a maior idade do conjunto de dados?"
      ]
    },
    {
      "cell_type": "code",
      "metadata": {
        "id": "7Q14GzKkMzIW",
        "colab_type": "code",
        "outputId": "93276128-e0ca-4b40-e977-af7781af637b",
        "colab": {
          "base_uri": "https://localhost:8080/",
          "height": 34
        }
      },
      "source": [
        "idades.max()"
      ],
      "execution_count": 0,
      "outputs": [
        {
          "output_type": "execute_result",
          "data": {
            "text/plain": [
              "45"
            ]
          },
          "metadata": {
            "tags": []
          },
          "execution_count": 29
        }
      ]
    },
    {
      "cell_type": "markdown",
      "metadata": {
        "id": "MgHtUII0MzIb",
        "colab_type": "text"
      },
      "source": [
        "13. Qual é a menor idade do conjunto de dados?"
      ]
    },
    {
      "cell_type": "code",
      "metadata": {
        "id": "E-dviXzWMzIc",
        "colab_type": "code",
        "outputId": "00d05466-82f6-4b82-dc72-a05a0ed5badf",
        "colab": {
          "base_uri": "https://localhost:8080/",
          "height": 34
        }
      },
      "source": [
        "idades.min()"
      ],
      "execution_count": 0,
      "outputs": [
        {
          "output_type": "execute_result",
          "data": {
            "text/plain": [
              "16"
            ]
          },
          "metadata": {
            "tags": []
          },
          "execution_count": 30
        }
      ]
    },
    {
      "cell_type": "markdown",
      "metadata": {
        "id": "FMSshrwzMzIe",
        "colab_type": "text"
      },
      "source": [
        "14. Selecione todos os jogadores que possuem a maior idade deste conjunto de dados. Quantas linhas retornaram? "
      ]
    },
    {
      "cell_type": "code",
      "metadata": {
        "id": "edRkX9YMMzIf",
        "colab_type": "code",
        "outputId": "7972936a-cf00-451a-acf1-5246a44cc75b",
        "colab": {
          "base_uri": "https://localhost:8080/",
          "height": 51
        }
      },
      "source": [
        "maior_idade = idades.max()\n",
        "cond = dados [:, 2].astype(int) == maior_idade\n",
        "\n",
        "dados[cond, :]"
      ],
      "execution_count": 0,
      "outputs": [
        {
          "output_type": "execute_result",
          "data": {
            "text/plain": [
              "array([[b'140029', b'O. P\\xe9rez', b'45', b'', b'71', b'71', b'Pachuca',\n",
              "        b'Direito', b'2', b'173']], dtype=object)"
            ]
          },
          "metadata": {
            "tags": []
          },
          "execution_count": 33
        }
      ]
    },
    {
      "cell_type": "markdown",
      "metadata": {
        "id": "DZHc8TqYMzIg",
        "colab_type": "text"
      },
      "source": [
        "15. Selecione todos os jogadores que possuem a menor idade deste conjunto de dados. Quantas linhas retornaram? "
      ]
    },
    {
      "cell_type": "code",
      "metadata": {
        "id": "WqN_s0JOMzIg",
        "colab_type": "code",
        "outputId": "f5459e01-8c43-4c61-9454-434646b925b4",
        "colab": {
          "base_uri": "https://localhost:8080/",
          "height": 1000
        }
      },
      "source": [
        "menor_idade = idades.min()\n",
        "cond = dados[:, 2].astype(int) == menor_idade\n",
        "\n",
        "dados[cond, :]"
      ],
      "execution_count": 0,
      "outputs": [
        {
          "output_type": "execute_result",
          "data": {
            "text/plain": [
              "array([[b'241266', b'W. Geubbels', b'16', b'', b'64', b'86',\n",
              "        b'AS Monaco', b'Direito', b'1', b'185'],\n",
              "       [b'244403', b'A. Taoui', b'16', b'', b'64', b'75',\n",
              "        b'Toulouse Football Club', b'Esquerdo', b'1', b'152'],\n",
              "       [b'245616', b'Pelayo Morilla', b'16', b'', b'63', b'81',\n",
              "        b'Real Sporting de Gij\\xf3n', b'Esquerdo', b'1', b'183'],\n",
              "       [b'246465', b'Guerrero', b'16', b'', b'63', b'76',\n",
              "        b'CF Rayo Majadahonda', b'Esquerdo', b'1', b'155'],\n",
              "       [b'246594', b'H. Massengo', b'16', b'', b'62', b'75',\n",
              "        b'AS Monaco', b'Direito', b'1', b'152'],\n",
              "       [b'246419', b'Y. Verschaeren', b'16', b'', b'62', b'83',\n",
              "        b'RSC Anderlecht', b'Direito', b'1', b'173'],\n",
              "       [b'245015', b'Y. Roemer', b'16', b'', b'59', b'75', b'VVV-Venlo',\n",
              "        b'Direito', b'1', b'155'],\n",
              "       [b'243169', b'Y. Begraoui', b'16', b'', b'59', b'81',\n",
              "        b'AJ Auxerre', b'Direito', b'1', b'175'],\n",
              "       [b'241650', b'J. Lahne', b'16', b'', b'59', b'77',\n",
              "        b'IF Brommapojkarna', b'Direito', b'1', b'170'],\n",
              "       [b'241552', b'J. Italiano', b'16', b'', b'58', b'79',\n",
              "        b'Perth Glory', b'Direito', b'1', b'170'],\n",
              "       [b'244728', b'S. Steijn', b'16', b'', b'58', b'72', b'VVV-Venlo',\n",
              "        b'Direito', b'1', b'173'],\n",
              "       [b'242531', b'J. Kitolano', b'16', b'', b'57', b'75', b'Odds BK',\n",
              "        b'Direito', b'1', b'170'],\n",
              "       [b'240562', b'D. Adshead', b'16', b'', b'57', b'77', b'Rochdale',\n",
              "        b'Direito', b'1', b'185'],\n",
              "       [b'243646', b'B. Nygren', b'16', b'', b'56', b'73',\n",
              "        b'IFK G\\xf6teborg', b'Esquerdo', b'1', b'183'],\n",
              "       [b'243269', None, b'16', b'', b'55', b'71', b'Kayserispor',\n",
              "        b'Direito', b'1', b'155'],\n",
              "       [b'245341', b'C. Bassett', b'16', b'', b'55', b'77',\n",
              "        b'Colorado Rapids', b'Direito', b'1', b'155'],\n",
              "       [b'243353', b'B. Mumba', b'16', b'', b'55', b'80', b'Sunderland',\n",
              "        b'Direito', b'1', b'168'],\n",
              "       [b'242074', b'R. G\\xf3mez', b'16', b'', b'55', b'76',\n",
              "        b'Belgrano de C\\xf3rdoba', b'Direito', b'1', b'170'],\n",
              "       [b'245171', b'H. Andersson', b'16', b'', b'55', b'70',\n",
              "        b'\\xd6rebro SK', b'Direito', b'1', b'191'],\n",
              "       [b'245485', b'P. Samiec-Talar', b'16', b'', b'55', b'73', None,\n",
              "        b'Direito', b'1', b'155'],\n",
              "       [b'242240', b\"L. D'Arrigo\", b'16', b'', b'54', b'71',\n",
              "        b'Adelaide United', b'Direito', b'1', b'175'],\n",
              "       [b'245470', b'K. Broda', b'16', b'', b'53', b'74', None,\n",
              "        b'Direito', b'1', b'191'],\n",
              "       [b'244752', b'J. Olstad', b'16', b'', b'52', b'69',\n",
              "        b'Sarpsborg 08 FF', b'Direito', b'1', b'173'],\n",
              "       [b'245537', b'E. Ceide', b'16', b'', b'52', b'75',\n",
              "        b'Rosenborg BK', b'Direito', b'1', b'175'],\n",
              "       [b'245539', b'B. Waine', b'16', b'', b'52', b'66',\n",
              "        b'Wellington Phoenix', b'Direito', b'1', b'175'],\n",
              "       [b'246315', b'L. Smyth', b'16', b'', b'52', b'73', b'Stevenage',\n",
              "        b'Direito', b'1', b'152'],\n",
              "       [b'244553', b'M. K\\xf6stenbauer', b'16', b'', b'52', b'74',\n",
              "        b'FC Admira Wacker M\\xf6dling', b'Direito', b'1', b'185'],\n",
              "       [b'245123', b'A. Mahlonoko', b'16', b'', b'52', b'71',\n",
              "        b'Orlando Pirates', b'Direito', b'1', b'173'],\n",
              "       [b'244925', b'F. Tauchhammer', b'16', b'', b'52', b'71',\n",
              "        b'Wolfsberger AC', b'Direito', b'1', b'183'],\n",
              "       [b'242165', b'R. Hauge', b'16', b'', b'52', b'67',\n",
              "        b'FK Bod\\xf8/Glimt', b'Direito', b'1', b'175'],\n",
              "       [b'246009', b'M. Tilio', b'16', b'', b'52', b'69', b'Sydney FC',\n",
              "        b'Esquerdo', b'1', b'170'],\n",
              "       [b'246601', b'J. Rowland', b'16', b'', b'51', b'66',\n",
              "        b'Shrewsbury', b'Direito', b'1', b'165'],\n",
              "       [b'243891', b'M. Larsen', b'16', b'', b'51', b'71', b'Esbjerg fB',\n",
              "        b'Direito', b'1', b'155'],\n",
              "       [b'239594', b'J. Imbrechts', b'16', b'', b'51', b'72',\n",
              "        b'Sporting de Charleroi', b'Direito', b'1', b'155'],\n",
              "       [b'243722', b\"B. O'Gorman\", b'16', b'', b'50', b'69',\n",
              "        b'Bray Wanderers', b'Direito', b'1', b'175'],\n",
              "       [b'246109', b'K. Lara', b'16', b'', b'50', b'74',\n",
              "        b'Atl\\xe9tico Huila', b'Direito', b'1', b'170'],\n",
              "       [b'243685', b'J. Cleary', b'16', b'', b'50', b'72',\n",
              "        b'Bohemian FC', b'Direito', b'1', b'152'],\n",
              "       [b'245808', b'G. Hollywood', b'16', b'', b'49', b'67',\n",
              "        b'Bray Wanderers', b'Direito', b'1', b'152'],\n",
              "       [b'243866', b'T. Gundelund', b'16', b'', b'48', b'66',\n",
              "        b'Vejle Boldklub', b'Direito', b'1', b'155'],\n",
              "       [b'243621', b'N. Ay\\xe9va', b'16', b'', b'48', b'72',\n",
              "        b'\\xd6rebro SK', b'Direito', b'1', b'152'],\n",
              "       [b'241638', b'B. Worman', b'16', b'', b'47', b'67',\n",
              "        b'Cambridge United', b'Direito', b'1', b'173'],\n",
              "       [b'246269', b'G. Nugent', b'16', b'', b'46', b'66',\n",
              "        b'Tranmere Rovers', b'Direito', b'1', b'152']], dtype=object)"
            ]
          },
          "metadata": {
            "tags": []
          },
          "execution_count": 34
        }
      ]
    },
    {
      "cell_type": "markdown",
      "metadata": {
        "id": "MRXGtEN6MzIk",
        "colab_type": "text"
      },
      "source": [
        "16. Selecione todos os jogadores brasileiros para uma variável chamada dados_brasil. Use `b'Brasil'` para fazer a comparação."
      ]
    },
    {
      "cell_type": "code",
      "metadata": {
        "id": "fM_RpJsHMzIl",
        "colab_type": "code",
        "outputId": "a8190b00-ba98-4a7a-f283-a11e0ed5bd66",
        "colab": {
          "base_uri": "https://localhost:8080/",
          "height": 1000
        }
      },
      "source": [
        "cond = dados[:, 3] == b'Brasil'\n",
        "dadosbr = dados[cond, :]\n",
        "dadosbr"
      ],
      "execution_count": 0,
      "outputs": [
        {
          "output_type": "execute_result",
          "data": {
            "text/plain": [
              "array([[b'190871', b'Neymar Jr', b'26', b'Brasil', b'92', b'93',\n",
              "        b'Paris Saint-Germain', b'Direito', b'5', b'175'],\n",
              "       [b'200145', b'Casemiro', b'26', b'Brasil', b'88', b'90',\n",
              "        b'Real Madrid', b'Direito', b'3', b'185'],\n",
              "       [b'189242', b'Coutinho', b'26', b'Brasil', b'88', b'89',\n",
              "        b'FC Barcelona', b'Direito', b'3', b'173'],\n",
              "       [b'176676', b'Marcelo', b'30', b'Brasil', b'88', b'88',\n",
              "        b'Real Madrid', b'Esquerdo', b'4', b'175'],\n",
              "       [b'164240', b'Thiago Silva', b'33', b'Brasil', b'88', b'88',\n",
              "        b'Paris Saint-Germain', b'Direito', b'4', b'183'],\n",
              "       [b'210257', b'Ederson', b'24', b'Brasil', b'86', b'90',\n",
              "        b'Manchester City', b'Esquerdo', b'2', b'188'],\n",
              "       [b'201942', b'Roberto Firmino', b'26', b'Brasil', b'86', b'87',\n",
              "        b'Liverpool', b'Direito', b'3', b'155'],\n",
              "       [b'191043', b'Alex Sandro', b'27', b'Brasil', b'86', b'86',\n",
              "        b'Juventus', b'Esquerdo', b'3', b'155'],\n",
              "       [b'190483', b'Douglas Costa', b'27', b'Brasil', b'86', b'86',\n",
              "        b'Juventus', b'Esquerdo', b'3', b'173'],\n",
              "       [b'135507', b'Fernandinho', b'33', b'Brasil', b'86', b'86',\n",
              "        b'Manchester City', b'Direito', b'3', b'152'],\n",
              "       [b'212831', b'Alisson', b'25', b'Brasil', b'85', b'90',\n",
              "        b'Liverpool', b'Direito', b'3', b'191'],\n",
              "       [b'187961', b'Paulinho', b'29', b'Brasil', b'85', b'85',\n",
              "        b'Guangzhou Evergrande Taobao FC', b'Direito', b'3', b'183'],\n",
              "       [b'171919', b'Naldo', b'35', b'Brasil', b'85', b'85',\n",
              "        b'FC Schalke 04', b'Direito', b'3', b'198'],\n",
              "       [b'168609', b'Miranda', b'33', b'Brasil', b'85', b'85', b'Inter',\n",
              "        b'Direito', b'3', b'185'],\n",
              "       [b'164169', b'Filipe Lu\\xeds', b'32', b'Brasil', b'85', b'85',\n",
              "        b'Atl\\xe9tico Madrid', b'Esquerdo', b'3', b'183'],\n",
              "       [b'212462', b'Alex Telles', b'25', b'Brasil', b'84', b'87',\n",
              "        b'FC Porto', b'Esquerdo', b'3', b'155'],\n",
              "       [b'209499', b'Fabinho', b'24', b'Brasil', b'84', b'88',\n",
              "        b'Liverpool', b'Direito', b'3', b'188'],\n",
              "       [b'207865', b'Marquinhos', b'24', b'Brasil', b'84', b'89',\n",
              "        b'Paris Saint-Germain', b'Direito', b'3', b'183'],\n",
              "       [b'180403', b'Willian', b'29', b'Brasil', b'84', b'84',\n",
              "        b'Chelsea', b'Direito', b'3', b'175'],\n",
              "       [b'176769', b'Jonas', b'34', b'Brasil', b'84', b'84',\n",
              "        b'SL Benfica', b'Direito', b'3', b'155'],\n",
              "       [b'230666', b'Gabriel Jesus', b'21', b'Brasil', b'83', b'92',\n",
              "        b'Manchester City', b'Direito', b'2', b'175'],\n",
              "       [b'230481', b'Ronaldo Cabrais', b'26', b'Brasil', b'83', b'83',\n",
              "        b'Gr\\xeamio', b'Direito', b'1', b'152'],\n",
              "       [b'230375', b'Josu\\xe9 Chiamulera', b'26', b'Brasil', b'83',\n",
              "        b'83', b'Gr\\xeamio', b'Direito', b'1', b'185'],\n",
              "       [b'230294', b'Louri Beretta', b'26', b'Brasil', b'83', b'83',\n",
              "        b'Atl\\xe9tico Mineiro', b'Direito', b'1', b'188'],\n",
              "       [b'212523', b'Anderson Talisca', b'24', b'Brasil', b'83', b'90',\n",
              "        b'Guangzhou Evergrande Taobao FC', b'Esquerdo', b'2', b'191'],\n",
              "       [b'207863', b'Felipe', b'29', b'Brasil', b'83', b'83',\n",
              "        b'FC Porto', b'Direito', b'3', b'191'],\n",
              "       [b'201995', b'Felipe Anderson', b'25', b'Brasil', b'83', b'85',\n",
              "        b'West Ham United', b'Direito', b'3', b'175'],\n",
              "       [b'200949', b'Lucas Moura', b'25', b'Brasil', b'83', b'84',\n",
              "        b'Tottenham Hotspur', b'Direito', b'3', b'175'],\n",
              "       [b'199914', b'Allan', b'27', b'Brasil', b'83', b'83', b'Napoli',\n",
              "        b'Direito', b'2', b'175'],\n",
              "       [b'194404', b'Neto', b'28', b'Brasil', b'83', b'84',\n",
              "        b'Valencia CF', b'Direito', b'2', b'191'],\n",
              "       [b'188152', b'Oscar', b'26', b'Brasil', b'83', b'84',\n",
              "        b'Shanghai SIPG FC', b'Direito', b'3', b'152'],\n",
              "       [b'185221', b'Luiz Gustavo', b'30', b'Brasil', b'83', b'83',\n",
              "        b'Olympique de Marseille', b'Esquerdo', b'3', b'188'],\n",
              "       [b'184942', b'Giuliano', b'28', b'Brasil', b'83', b'83',\n",
              "        b'Al Nassr', b'Direito', b'2', b'173'],\n",
              "       [b'179944', b'David Luiz', b'31', b'Brasil', b'83', b'83',\n",
              "        b'Chelsea', b'Direito', b'4', b'188'],\n",
              "       [b'176266', b'Lucas Leiva', b'31', b'Brasil', b'83', b'83',\n",
              "        b'Lazio', b'Direito', b'3', b'152'],\n",
              "       [b'230658', b'Arthur', b'21', b'Brasil', b'82', b'90',\n",
              "        b'FC Barcelona', b'Direito', b'1', b'170'],\n",
              "       [b'230258', b'Rosberto Dourado', b'30', b'Brasil', b'82', b'82',\n",
              "        b'Atl\\xe9tico Mineiro', b'Direito', b'1', b'175'],\n",
              "       [b'230225', b'Juiano Mestres', b'34', b'Brasil', b'82', b'82',\n",
              "        b'Cruzeiro', b'Direito', b'1', b'155'],\n",
              "       [b'230168', b'Raphaelito Anjos', b'30', b'Brasil', b'82', b'82',\n",
              "        b'Gr\\xeamio', b'Direito', b'1', b'191'],\n",
              "       [b'222737', b'Malcom', b'21', b'Brasil', b'82', b'89',\n",
              "        b'FC Barcelona', b'Esquerdo', b'2', b'173'],\n",
              "       [b'209297', b'Fred', b'25', b'Brasil', b'82', b'84',\n",
              "        b'Manchester United', b'Esquerdo', b'1', b'170'],\n",
              "       [b'201400', b'Rafinha', b'25', b'Brasil', b'82', b'87',\n",
              "        b'FC Barcelona', b'Esquerdo', b'2', b'175'],\n",
              "       [b'201305', b'Gabriel Paulista', b'27', b'Brasil', b'82', b'83',\n",
              "        b'Valencia CF', b'Direito', b'2', b'188'],\n",
              "       [b'195093', b'Willian Jos\\xe9', b'26', b'Brasil', b'82', b'83',\n",
              "        b'Real Sociedad', b'Direito', b'2', b'188'],\n",
              "       [b'188803', b'Taison', b'30', b'Brasil', b'82', b'82',\n",
              "        b'Shakhtar Donetsk', b'Direito', b'2', b'173'],\n",
              "       [b'168530', b'Jardel', b'32', b'Brasil', b'82', b'82',\n",
              "        b'SL Benfica', b'Direito', b'2', b'193'],\n",
              "       [b'146530', b'Dani Alves', b'35', b'Brasil', b'82', b'82',\n",
              "        b'Paris Saint-Germain', b'Direito', b'4', b'173'],\n",
              "       [b'230271', b'Laure Santeiro', b'30', b'Brasil', b'81', b'81',\n",
              "        b'Fluminense', b'Esquerdo', b'1', b'170'],\n",
              "       [b'189362', b'Hulk', b'31', b'Brasil', b'81', b'81',\n",
              "        b'Shanghai SIPG FC', b'Esquerdo', b'4', b'155'],\n",
              "       [b'169195', b'Renato Augusto', b'30', b'Brasil', b'81', b'81',\n",
              "        b'Beijing Sinobo Guoan FC', b'Direito', b'2', b'185'],\n",
              "       [b'144622', b'Raffael', b'33', b'Brasil', b'81', b'81',\n",
              "        b'Borussia M\\xf6nchengladbach', b'Direito', b'2', b'175'],\n",
              "       [b'230347', b'Welington Dano', b'30', b'Brasil', b'80', b'80',\n",
              "        b'Cruzeiro', b'Esquerdo', b'1', b'152'],\n",
              "       [b'230234', b'Everton Andr\\xe3o', b'34', b'Brasil', b'80', b'80',\n",
              "        b'Fluminense', b'Direito', b'1', b'152'],\n",
              "       [b'221540', b'Ra\\xfal', b'28', b'Brasil', b'80', b'80',\n",
              "        b'SC Braga', b'Esquerdo', b'1', b'188'],\n",
              "       [b'205525', b'Bernard', b'25', b'Brasil', b'80', b'81',\n",
              "        b'Everton', b'Direito', b'2', b'165'],\n",
              "       [b'201119', b'Ismaily', b'28', b'Brasil', b'80', b'80',\n",
              "        b'Shakhtar Donetsk', b'Esquerdo', b'1', b'152'],\n",
              "       [b'191687', b'Maicon', b'29', b'Brasil', b'80', b'80',\n",
              "        b'Galatasaray SK', b'Direito', b'2', b'191'],\n",
              "       [b'180334', b'Marcelo', b'31', b'Brasil', b'80', b'80',\n",
              "        b'Olympique Lyonnais', b'Direito', b'2', b'191'],\n",
              "       [b'180175', b'Alexandre Pato', b'28', b'Brasil', b'80', b'80',\n",
              "        b'Tianjin Quanjian FC', b'Direito', b'3', b'155'],\n",
              "       [b'158625', b'Dante', b'34', b'Brasil', b'80', b'80', b'OGC Nice',\n",
              "        b'Esquerdo', b'3', b'188'],\n",
              "       [b'236632', b'David Neres', b'21', b'Brasil', b'79', b'86',\n",
              "        b'Ajax', b'Esquerdo', b'2', b'175'],\n",
              "       [b'233419', b'Raphinha', b'21', b'Brasil', b'79', b'86',\n",
              "        b'Sporting CP', b'Esquerdo', b'1', b'175'],\n",
              "       [b'231943', b'Richarlison', b'21', b'Brasil', b'79', b'86',\n",
              "        b'Everton', b'Direito', b'1', b'155'],\n",
              "       [b'230498', b'Luimo Boas Santos', b'30', b'Brasil', b'79', b'79',\n",
              "        b'Santos', b'Direito', b'1', b'175'],\n",
              "       [b'230312', b'Gabri Prest\\xe3o', b'26', b'Brasil', b'79', b'79',\n",
              "        b'Internacional', b'Direito', b'1', b'185'],\n",
              "       [b'230251', b'Melvin Parrela', b'30', b'Brasil', b'79', b'79',\n",
              "        b'Am\\xe9rica FC (Minas Gerais)', b'Direito', b'1', b'188'],\n",
              "       [b'230212', b'Ant\\xf4nio Chiamuloira', b'30', b'Brasil', b'79',\n",
              "        b'79', b'Internacional', b'Esquerdo', b'1', b'183'],\n",
              "       [b'230201', b'Maikel Catarino', b'34', b'Brasil', b'79', b'79',\n",
              "        b'Atl\\xe9tico Mineiro', b'Direito', b'1', b'152'],\n",
              "       [b'210411', b'Ot\\xe1vio', b'23', b'Brasil', b'79', b'85',\n",
              "        b'FC Porto', b'Direito', b'1', b'173']], dtype=object)"
            ]
          },
          "metadata": {
            "tags": []
          },
          "execution_count": 35
        }
      ]
    },
    {
      "cell_type": "markdown",
      "metadata": {
        "id": "5MWrNVTyMzIm",
        "colab_type": "text"
      },
      "source": [
        "17. Quantos são os jogadores brasileiros?"
      ]
    },
    {
      "cell_type": "code",
      "metadata": {
        "id": "FBhrKh6sMzIm",
        "colab_type": "code",
        "outputId": "24f8e7a5-dedd-4fd3-e328-bd5a4f193f81",
        "colab": {
          "base_uri": "https://localhost:8080/",
          "height": 34
        }
      },
      "source": [
        "len(dadosbr)"
      ],
      "execution_count": 0,
      "outputs": [
        {
          "output_type": "execute_result",
          "data": {
            "text/plain": [
              "69"
            ]
          },
          "metadata": {
            "tags": []
          },
          "execution_count": 36
        }
      ]
    },
    {
      "cell_type": "markdown",
      "metadata": {
        "id": "HY1-wTKHMzIo",
        "colab_type": "text"
      },
      "source": [
        "18. Para as colunas `idade`, `altura` e `peso`, calcule:\n",
        "    - Média\n",
        "    - Mediana\n",
        "    - Máximo\n",
        "    - Mínimo"
      ]
    },
    {
      "cell_type": "code",
      "metadata": {
        "id": "NdOSpjTdMzIp",
        "colab_type": "code",
        "outputId": "5d5a4735-1e99-49bd-fe24-b5a9e040632d",
        "colab": {
          "base_uri": "https://localhost:8080/",
          "height": 221
        }
      },
      "source": [
        "print('Media de Idades:',idades.mean() ,\"anos\")\n",
        "print('Mediana de Idades:',np.median(idades) ,\"anos\")\n",
        "print('Idade Maxima:',idades.max() ,\"anos\")\n",
        "print('Idade Minima:',idades.min() ,\"anos\")\n",
        "\n",
        "cond_null = dados[:,9] != b''\n",
        "altura = dados[cond_null,9].astype(int)\n",
        "print('Media de Altura:', altura.mean() , \"cm\")\n",
        "print('Mediana de Altura:', np.median(altura), \"cm\")\n",
        "print('Altura Maxima:', altura.max(), \"cm\")\n",
        "print('Altura Minima:', altura.min(), \"cm\")\n",
        "\n",
        "cond_null = dados[:, 9] != b''\n",
        "peso = dados[cond_null, 9].astype(float)\n",
        "print('Media de Peso:',peso.mean(), \"kg\")\n",
        "print('Mediana de Peso:', np.median(peso), \"kg\")\n",
        "print('Peso Maximo:', peso.max(), \"kg\")\n",
        "print('Peso Minimo:', peso.min(), \"kg\")"
      ],
      "execution_count": 0,
      "outputs": [
        {
          "output_type": "stream",
          "text": [
            "Media de Idades: 25.122205745043114 anos\n",
            "Mediana de Idades: 25.0 anos\n",
            "Idade Maxima: 45 anos\n",
            "Idade Minima: 16 anos\n",
            "Media de Altura: 174.7126493749656 cm\n",
            "Mediana de Altura: 175.0 cm\n",
            "Altura Maxima: 206 cm\n",
            "Altura Minima: 152 cm\n",
            "Media de Peso: 174.7126493749656 kg\n",
            "Mediana de Peso: 175.0 kg\n",
            "Peso Maximo: 206.0 kg\n",
            "Peso Minimo: 152.0 kg\n"
          ],
          "name": "stdout"
        }
      ]
    },
    {
      "cell_type": "markdown",
      "metadata": {
        "id": "33wgJz0XMzIs",
        "colab_type": "text"
      },
      "source": [
        "19. Calcule o desvio padrão da `reputação` dos jogadores brasileiros"
      ]
    },
    {
      "cell_type": "code",
      "metadata": {
        "id": "DxjYQs_NMzIs",
        "colab_type": "code",
        "outputId": "c7a1553f-9ff9-47c3-97b4-5bcef5f16885",
        "colab": {
          "base_uri": "https://localhost:8080/",
          "height": 51
        }
      },
      "source": [
        "repnull = dados[:, 9] != b''\n",
        "rep = dados[repnull, 8].astype(int)\n",
        "print(\"Media de Desvio Rep BR:\")\n",
        "np.std(rep)"
      ],
      "execution_count": 0,
      "outputs": [
        {
          "output_type": "stream",
          "text": [
            "Media de Desvio Rep BR:\n"
          ],
          "name": "stdout"
        },
        {
          "output_type": "execute_result",
          "data": {
            "text/plain": [
              "0.394019906232981"
            ]
          },
          "metadata": {
            "tags": []
          },
          "execution_count": 59
        }
      ]
    },
    {
      "cell_type": "markdown",
      "metadata": {
        "id": "z-G7Qt01MzIu",
        "colab_type": "text"
      },
      "source": [
        "20. Qual jogador brasileiro tem menor pontencial?"
      ]
    },
    {
      "cell_type": "code",
      "metadata": {
        "id": "8AjWZ7axMzIu",
        "colab_type": "code",
        "outputId": "6a901d75-2b33-42e3-d794-74143ba98406",
        "colab": {
          "base_uri": "https://localhost:8080/",
          "height": 1000
        }
      },
      "source": [
        "potencial = dadosbr[:,5].astype(int) == potencial_min\n",
        "potencial_min = potencial.min()\n",
        "dadosbr[potencial_min:]"
      ],
      "execution_count": 0,
      "outputs": [
        {
          "output_type": "stream",
          "text": [
            "/usr/local/lib/python3.6/dist-packages/ipykernel_launcher.py:3: DeprecationWarning: In future, it will be an error for 'np.bool_' scalars to be interpreted as an index\n",
            "  This is separate from the ipykernel package so we can avoid doing imports until\n"
          ],
          "name": "stderr"
        },
        {
          "output_type": "execute_result",
          "data": {
            "text/plain": [
              "array([[b'190871', b'Neymar Jr', b'26', b'Brasil', b'92', b'93',\n",
              "        b'Paris Saint-Germain', b'Direito', b'5', b'175'],\n",
              "       [b'200145', b'Casemiro', b'26', b'Brasil', b'88', b'90',\n",
              "        b'Real Madrid', b'Direito', b'3', b'185'],\n",
              "       [b'189242', b'Coutinho', b'26', b'Brasil', b'88', b'89',\n",
              "        b'FC Barcelona', b'Direito', b'3', b'173'],\n",
              "       [b'176676', b'Marcelo', b'30', b'Brasil', b'88', b'88',\n",
              "        b'Real Madrid', b'Esquerdo', b'4', b'175'],\n",
              "       [b'164240', b'Thiago Silva', b'33', b'Brasil', b'88', b'88',\n",
              "        b'Paris Saint-Germain', b'Direito', b'4', b'183'],\n",
              "       [b'210257', b'Ederson', b'24', b'Brasil', b'86', b'90',\n",
              "        b'Manchester City', b'Esquerdo', b'2', b'188'],\n",
              "       [b'201942', b'Roberto Firmino', b'26', b'Brasil', b'86', b'87',\n",
              "        b'Liverpool', b'Direito', b'3', b'155'],\n",
              "       [b'191043', b'Alex Sandro', b'27', b'Brasil', b'86', b'86',\n",
              "        b'Juventus', b'Esquerdo', b'3', b'155'],\n",
              "       [b'190483', b'Douglas Costa', b'27', b'Brasil', b'86', b'86',\n",
              "        b'Juventus', b'Esquerdo', b'3', b'173'],\n",
              "       [b'135507', b'Fernandinho', b'33', b'Brasil', b'86', b'86',\n",
              "        b'Manchester City', b'Direito', b'3', b'152'],\n",
              "       [b'212831', b'Alisson', b'25', b'Brasil', b'85', b'90',\n",
              "        b'Liverpool', b'Direito', b'3', b'191'],\n",
              "       [b'187961', b'Paulinho', b'29', b'Brasil', b'85', b'85',\n",
              "        b'Guangzhou Evergrande Taobao FC', b'Direito', b'3', b'183'],\n",
              "       [b'171919', b'Naldo', b'35', b'Brasil', b'85', b'85',\n",
              "        b'FC Schalke 04', b'Direito', b'3', b'198'],\n",
              "       [b'168609', b'Miranda', b'33', b'Brasil', b'85', b'85', b'Inter',\n",
              "        b'Direito', b'3', b'185'],\n",
              "       [b'164169', b'Filipe Lu\\xeds', b'32', b'Brasil', b'85', b'85',\n",
              "        b'Atl\\xe9tico Madrid', b'Esquerdo', b'3', b'183'],\n",
              "       [b'212462', b'Alex Telles', b'25', b'Brasil', b'84', b'87',\n",
              "        b'FC Porto', b'Esquerdo', b'3', b'155'],\n",
              "       [b'209499', b'Fabinho', b'24', b'Brasil', b'84', b'88',\n",
              "        b'Liverpool', b'Direito', b'3', b'188'],\n",
              "       [b'207865', b'Marquinhos', b'24', b'Brasil', b'84', b'89',\n",
              "        b'Paris Saint-Germain', b'Direito', b'3', b'183'],\n",
              "       [b'180403', b'Willian', b'29', b'Brasil', b'84', b'84',\n",
              "        b'Chelsea', b'Direito', b'3', b'175'],\n",
              "       [b'176769', b'Jonas', b'34', b'Brasil', b'84', b'84',\n",
              "        b'SL Benfica', b'Direito', b'3', b'155'],\n",
              "       [b'230666', b'Gabriel Jesus', b'21', b'Brasil', b'83', b'92',\n",
              "        b'Manchester City', b'Direito', b'2', b'175'],\n",
              "       [b'230481', b'Ronaldo Cabrais', b'26', b'Brasil', b'83', b'83',\n",
              "        b'Gr\\xeamio', b'Direito', b'1', b'152'],\n",
              "       [b'230375', b'Josu\\xe9 Chiamulera', b'26', b'Brasil', b'83',\n",
              "        b'83', b'Gr\\xeamio', b'Direito', b'1', b'185'],\n",
              "       [b'230294', b'Louri Beretta', b'26', b'Brasil', b'83', b'83',\n",
              "        b'Atl\\xe9tico Mineiro', b'Direito', b'1', b'188'],\n",
              "       [b'212523', b'Anderson Talisca', b'24', b'Brasil', b'83', b'90',\n",
              "        b'Guangzhou Evergrande Taobao FC', b'Esquerdo', b'2', b'191'],\n",
              "       [b'207863', b'Felipe', b'29', b'Brasil', b'83', b'83',\n",
              "        b'FC Porto', b'Direito', b'3', b'191'],\n",
              "       [b'201995', b'Felipe Anderson', b'25', b'Brasil', b'83', b'85',\n",
              "        b'West Ham United', b'Direito', b'3', b'175'],\n",
              "       [b'200949', b'Lucas Moura', b'25', b'Brasil', b'83', b'84',\n",
              "        b'Tottenham Hotspur', b'Direito', b'3', b'175'],\n",
              "       [b'199914', b'Allan', b'27', b'Brasil', b'83', b'83', b'Napoli',\n",
              "        b'Direito', b'2', b'175'],\n",
              "       [b'194404', b'Neto', b'28', b'Brasil', b'83', b'84',\n",
              "        b'Valencia CF', b'Direito', b'2', b'191'],\n",
              "       [b'188152', b'Oscar', b'26', b'Brasil', b'83', b'84',\n",
              "        b'Shanghai SIPG FC', b'Direito', b'3', b'152'],\n",
              "       [b'185221', b'Luiz Gustavo', b'30', b'Brasil', b'83', b'83',\n",
              "        b'Olympique de Marseille', b'Esquerdo', b'3', b'188'],\n",
              "       [b'184942', b'Giuliano', b'28', b'Brasil', b'83', b'83',\n",
              "        b'Al Nassr', b'Direito', b'2', b'173'],\n",
              "       [b'179944', b'David Luiz', b'31', b'Brasil', b'83', b'83',\n",
              "        b'Chelsea', b'Direito', b'4', b'188'],\n",
              "       [b'176266', b'Lucas Leiva', b'31', b'Brasil', b'83', b'83',\n",
              "        b'Lazio', b'Direito', b'3', b'152'],\n",
              "       [b'230658', b'Arthur', b'21', b'Brasil', b'82', b'90',\n",
              "        b'FC Barcelona', b'Direito', b'1', b'170'],\n",
              "       [b'230258', b'Rosberto Dourado', b'30', b'Brasil', b'82', b'82',\n",
              "        b'Atl\\xe9tico Mineiro', b'Direito', b'1', b'175'],\n",
              "       [b'230225', b'Juiano Mestres', b'34', b'Brasil', b'82', b'82',\n",
              "        b'Cruzeiro', b'Direito', b'1', b'155'],\n",
              "       [b'230168', b'Raphaelito Anjos', b'30', b'Brasil', b'82', b'82',\n",
              "        b'Gr\\xeamio', b'Direito', b'1', b'191'],\n",
              "       [b'222737', b'Malcom', b'21', b'Brasil', b'82', b'89',\n",
              "        b'FC Barcelona', b'Esquerdo', b'2', b'173'],\n",
              "       [b'209297', b'Fred', b'25', b'Brasil', b'82', b'84',\n",
              "        b'Manchester United', b'Esquerdo', b'1', b'170'],\n",
              "       [b'201400', b'Rafinha', b'25', b'Brasil', b'82', b'87',\n",
              "        b'FC Barcelona', b'Esquerdo', b'2', b'175'],\n",
              "       [b'201305', b'Gabriel Paulista', b'27', b'Brasil', b'82', b'83',\n",
              "        b'Valencia CF', b'Direito', b'2', b'188'],\n",
              "       [b'195093', b'Willian Jos\\xe9', b'26', b'Brasil', b'82', b'83',\n",
              "        b'Real Sociedad', b'Direito', b'2', b'188'],\n",
              "       [b'188803', b'Taison', b'30', b'Brasil', b'82', b'82',\n",
              "        b'Shakhtar Donetsk', b'Direito', b'2', b'173'],\n",
              "       [b'168530', b'Jardel', b'32', b'Brasil', b'82', b'82',\n",
              "        b'SL Benfica', b'Direito', b'2', b'193'],\n",
              "       [b'146530', b'Dani Alves', b'35', b'Brasil', b'82', b'82',\n",
              "        b'Paris Saint-Germain', b'Direito', b'4', b'173'],\n",
              "       [b'230271', b'Laure Santeiro', b'30', b'Brasil', b'81', b'81',\n",
              "        b'Fluminense', b'Esquerdo', b'1', b'170'],\n",
              "       [b'189362', b'Hulk', b'31', b'Brasil', b'81', b'81',\n",
              "        b'Shanghai SIPG FC', b'Esquerdo', b'4', b'155'],\n",
              "       [b'169195', b'Renato Augusto', b'30', b'Brasil', b'81', b'81',\n",
              "        b'Beijing Sinobo Guoan FC', b'Direito', b'2', b'185'],\n",
              "       [b'144622', b'Raffael', b'33', b'Brasil', b'81', b'81',\n",
              "        b'Borussia M\\xf6nchengladbach', b'Direito', b'2', b'175'],\n",
              "       [b'230347', b'Welington Dano', b'30', b'Brasil', b'80', b'80',\n",
              "        b'Cruzeiro', b'Esquerdo', b'1', b'152'],\n",
              "       [b'230234', b'Everton Andr\\xe3o', b'34', b'Brasil', b'80', b'80',\n",
              "        b'Fluminense', b'Direito', b'1', b'152'],\n",
              "       [b'221540', b'Ra\\xfal', b'28', b'Brasil', b'80', b'80',\n",
              "        b'SC Braga', b'Esquerdo', b'1', b'188'],\n",
              "       [b'205525', b'Bernard', b'25', b'Brasil', b'80', b'81',\n",
              "        b'Everton', b'Direito', b'2', b'165'],\n",
              "       [b'201119', b'Ismaily', b'28', b'Brasil', b'80', b'80',\n",
              "        b'Shakhtar Donetsk', b'Esquerdo', b'1', b'152'],\n",
              "       [b'191687', b'Maicon', b'29', b'Brasil', b'80', b'80',\n",
              "        b'Galatasaray SK', b'Direito', b'2', b'191'],\n",
              "       [b'180334', b'Marcelo', b'31', b'Brasil', b'80', b'80',\n",
              "        b'Olympique Lyonnais', b'Direito', b'2', b'191'],\n",
              "       [b'180175', b'Alexandre Pato', b'28', b'Brasil', b'80', b'80',\n",
              "        b'Tianjin Quanjian FC', b'Direito', b'3', b'155'],\n",
              "       [b'158625', b'Dante', b'34', b'Brasil', b'80', b'80', b'OGC Nice',\n",
              "        b'Esquerdo', b'3', b'188'],\n",
              "       [b'236632', b'David Neres', b'21', b'Brasil', b'79', b'86',\n",
              "        b'Ajax', b'Esquerdo', b'2', b'175'],\n",
              "       [b'233419', b'Raphinha', b'21', b'Brasil', b'79', b'86',\n",
              "        b'Sporting CP', b'Esquerdo', b'1', b'175'],\n",
              "       [b'231943', b'Richarlison', b'21', b'Brasil', b'79', b'86',\n",
              "        b'Everton', b'Direito', b'1', b'155'],\n",
              "       [b'230498', b'Luimo Boas Santos', b'30', b'Brasil', b'79', b'79',\n",
              "        b'Santos', b'Direito', b'1', b'175'],\n",
              "       [b'230312', b'Gabri Prest\\xe3o', b'26', b'Brasil', b'79', b'79',\n",
              "        b'Internacional', b'Direito', b'1', b'185'],\n",
              "       [b'230251', b'Melvin Parrela', b'30', b'Brasil', b'79', b'79',\n",
              "        b'Am\\xe9rica FC (Minas Gerais)', b'Direito', b'1', b'188'],\n",
              "       [b'230212', b'Ant\\xf4nio Chiamuloira', b'30', b'Brasil', b'79',\n",
              "        b'79', b'Internacional', b'Esquerdo', b'1', b'183'],\n",
              "       [b'230201', b'Maikel Catarino', b'34', b'Brasil', b'79', b'79',\n",
              "        b'Atl\\xe9tico Mineiro', b'Direito', b'1', b'152'],\n",
              "       [b'210411', b'Ot\\xe1vio', b'23', b'Brasil', b'79', b'85',\n",
              "        b'FC Porto', b'Direito', b'1', b'173']], dtype=object)"
            ]
          },
          "metadata": {
            "tags": []
          },
          "execution_count": 73
        }
      ]
    }
  ]
}